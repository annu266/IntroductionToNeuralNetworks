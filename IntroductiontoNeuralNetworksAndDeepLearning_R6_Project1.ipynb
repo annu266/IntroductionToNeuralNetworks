{
 "cells": [
  {
   "cell_type": "code",
   "execution_count": 1,
   "metadata": {},
   "outputs": [
    {
     "name": "stderr",
     "output_type": "stream",
     "text": [
      "Using TensorFlow backend.\n"
     ]
    }
   ],
   "source": [
    "#Import Libraries\n",
    "import pandas as pd\n",
    "import numpy as np\n",
    "\n",
    "%matplotlib inline \n",
    "\n",
    "import matplotlib\n",
    "import matplotlib.pyplot as plt \n",
    "from keras.layers import Dropout\n",
    "from sklearn.model_selection import train_test_split\n",
    "from scipy.stats import zscore\n",
    "from sklearn import metrics"
   ]
  },
  {
   "cell_type": "markdown",
   "metadata": {},
   "source": [
    "## 1. Read the dataset"
   ]
  },
  {
   "cell_type": "code",
   "execution_count": 2,
   "metadata": {},
   "outputs": [
    {
     "name": "stdout",
     "output_type": "stream",
     "text": [
      "Getting the glimpse of the data\n",
      "Dimensions\n",
      "variable type\n",
      "<class 'pandas.core.frame.DataFrame'>\n",
      "RangeIndex: 10000 entries, 0 to 9999\n",
      "Data columns (total 14 columns):\n",
      "RowNumber          10000 non-null int64\n",
      "CustomerId         10000 non-null int64\n",
      "Surname            10000 non-null object\n",
      "CreditScore        10000 non-null int64\n",
      "Geography          10000 non-null object\n",
      "Gender             10000 non-null object\n",
      "Age                10000 non-null int64\n",
      "Tenure             10000 non-null int64\n",
      "Balance            10000 non-null float64\n",
      "NumOfProducts      10000 non-null int64\n",
      "HasCrCard          10000 non-null int64\n",
      "IsActiveMember     10000 non-null int64\n",
      "EstimatedSalary    10000 non-null float64\n",
      "Exited             10000 non-null int64\n",
      "dtypes: float64(2), int64(9), object(3)\n",
      "memory usage: 1.1+ MB\n"
     ]
    }
   ],
   "source": [
    "# reading the CSV file into pandas dataframe\n",
    "Loan = pd.read_csv(\"C:/Users/Tanu/Desktop/Greatleaning/Feb'19/Project_Neuralnet/bank.csv\")  \n",
    "\n",
    "print('Getting the glimpse of the data')\n",
    "Loan.head(5)\n",
    "\n",
    "print('Dimensions')\n",
    "Loan.shape\n",
    "\n",
    "print('variable type')\n",
    "Loan.info()\n"
   ]
  },
  {
   "cell_type": "code",
   "execution_count": 3,
   "metadata": {},
   "outputs": [
    {
     "data": {
      "text/plain": [
       "False"
      ]
     },
     "execution_count": 3,
     "metadata": {},
     "output_type": "execute_result"
    }
   ],
   "source": [
    "# To check if any missing value in the dataset\n",
    "\n",
    "Loan.isnull().values.any()\n",
    "\n",
    "# No missing value in the data"
   ]
  },
  {
   "cell_type": "markdown",
   "metadata": {},
   "source": [
    "# 2. Drop the columns which are unique for all users like IDs "
   ]
  },
  {
   "cell_type": "code",
   "execution_count": 4,
   "metadata": {},
   "outputs": [
    {
     "data": {
      "text/html": [
       "<div>\n",
       "<style scoped>\n",
       "    .dataframe tbody tr th:only-of-type {\n",
       "        vertical-align: middle;\n",
       "    }\n",
       "\n",
       "    .dataframe tbody tr th {\n",
       "        vertical-align: top;\n",
       "    }\n",
       "\n",
       "    .dataframe thead th {\n",
       "        text-align: right;\n",
       "    }\n",
       "</style>\n",
       "<table border=\"1\" class=\"dataframe\">\n",
       "  <thead>\n",
       "    <tr style=\"text-align: right;\">\n",
       "      <th></th>\n",
       "      <th>CreditScore</th>\n",
       "      <th>Geography</th>\n",
       "      <th>Gender</th>\n",
       "      <th>Age</th>\n",
       "      <th>Tenure</th>\n",
       "      <th>Balance</th>\n",
       "      <th>NumOfProducts</th>\n",
       "      <th>HasCrCard</th>\n",
       "      <th>IsActiveMember</th>\n",
       "      <th>EstimatedSalary</th>\n",
       "      <th>Exited</th>\n",
       "    </tr>\n",
       "  </thead>\n",
       "  <tbody>\n",
       "    <tr>\n",
       "      <th>0</th>\n",
       "      <td>619</td>\n",
       "      <td>France</td>\n",
       "      <td>Female</td>\n",
       "      <td>42</td>\n",
       "      <td>2</td>\n",
       "      <td>0.00</td>\n",
       "      <td>1</td>\n",
       "      <td>1</td>\n",
       "      <td>1</td>\n",
       "      <td>101348.88</td>\n",
       "      <td>1</td>\n",
       "    </tr>\n",
       "    <tr>\n",
       "      <th>1</th>\n",
       "      <td>608</td>\n",
       "      <td>Spain</td>\n",
       "      <td>Female</td>\n",
       "      <td>41</td>\n",
       "      <td>1</td>\n",
       "      <td>83807.86</td>\n",
       "      <td>1</td>\n",
       "      <td>0</td>\n",
       "      <td>1</td>\n",
       "      <td>112542.58</td>\n",
       "      <td>0</td>\n",
       "    </tr>\n",
       "    <tr>\n",
       "      <th>2</th>\n",
       "      <td>502</td>\n",
       "      <td>France</td>\n",
       "      <td>Female</td>\n",
       "      <td>42</td>\n",
       "      <td>8</td>\n",
       "      <td>159660.80</td>\n",
       "      <td>3</td>\n",
       "      <td>1</td>\n",
       "      <td>0</td>\n",
       "      <td>113931.57</td>\n",
       "      <td>1</td>\n",
       "    </tr>\n",
       "    <tr>\n",
       "      <th>3</th>\n",
       "      <td>699</td>\n",
       "      <td>France</td>\n",
       "      <td>Female</td>\n",
       "      <td>39</td>\n",
       "      <td>1</td>\n",
       "      <td>0.00</td>\n",
       "      <td>2</td>\n",
       "      <td>0</td>\n",
       "      <td>0</td>\n",
       "      <td>93826.63</td>\n",
       "      <td>0</td>\n",
       "    </tr>\n",
       "    <tr>\n",
       "      <th>4</th>\n",
       "      <td>850</td>\n",
       "      <td>Spain</td>\n",
       "      <td>Female</td>\n",
       "      <td>43</td>\n",
       "      <td>2</td>\n",
       "      <td>125510.82</td>\n",
       "      <td>1</td>\n",
       "      <td>1</td>\n",
       "      <td>1</td>\n",
       "      <td>79084.10</td>\n",
       "      <td>0</td>\n",
       "    </tr>\n",
       "  </tbody>\n",
       "</table>\n",
       "</div>"
      ],
      "text/plain": [
       "   CreditScore Geography  Gender  Age  Tenure    Balance  NumOfProducts  \\\n",
       "0          619    France  Female   42       2       0.00              1   \n",
       "1          608     Spain  Female   41       1   83807.86              1   \n",
       "2          502    France  Female   42       8  159660.80              3   \n",
       "3          699    France  Female   39       1       0.00              2   \n",
       "4          850     Spain  Female   43       2  125510.82              1   \n",
       "\n",
       "   HasCrCard  IsActiveMember  EstimatedSalary  Exited  \n",
       "0          1               1        101348.88       1  \n",
       "1          0               1        112542.58       0  \n",
       "2          1               0        113931.57       1  \n",
       "3          0               0         93826.63       0  \n",
       "4          1               1         79084.10       0  "
      ]
     },
     "execution_count": 4,
     "metadata": {},
     "output_type": "execute_result"
    }
   ],
   "source": [
    "# dropping id, date & zipcode columns  as these columns are unique for all user\n",
    "Loan1 = Loan.drop({'RowNumber','CustomerId','Surname'}, axis=1)\n",
    "\n",
    "# Seeing output\n",
    "Loan1.head()"
   ]
  },
  {
   "cell_type": "markdown",
   "metadata": {},
   "source": [
    "# 3. Distinguish the feature and target set "
   ]
  },
  {
   "cell_type": "code",
   "execution_count": 5,
   "metadata": {},
   "outputs": [],
   "source": [
    "# From the problem statement of the project, it is clear that bank want to predict if the person will stay or it will exit\n",
    "# Bank want to build the classifier to make the prediction\n",
    "\n",
    "# Basis this information, 'Exit' is the target variable which shows if the customer is stayed or leave. \n",
    "#Exit = 1 menas customer has left\n",
    "\n",
    "#Rest of the variable from Loan1 dataframe can be used for feature set  \n",
    "\n",
    "# The task of creating Feature set & target set is done below:"
   ]
  },
  {
   "cell_type": "code",
   "execution_count": 6,
   "metadata": {},
   "outputs": [],
   "source": [
    "# creating the feature set \n",
    "X = Loan1.drop('Exited', axis = 1)\n",
    "\n",
    "\n",
    "# creating the target set \n",
    "y = Loan1['Exited']"
   ]
  },
  {
   "cell_type": "code",
   "execution_count": 7,
   "metadata": {},
   "outputs": [
    {
     "data": {
      "text/html": [
       "<div>\n",
       "<style scoped>\n",
       "    .dataframe tbody tr th:only-of-type {\n",
       "        vertical-align: middle;\n",
       "    }\n",
       "\n",
       "    .dataframe tbody tr th {\n",
       "        vertical-align: top;\n",
       "    }\n",
       "\n",
       "    .dataframe thead th {\n",
       "        text-align: right;\n",
       "    }\n",
       "</style>\n",
       "<table border=\"1\" class=\"dataframe\">\n",
       "  <thead>\n",
       "    <tr style=\"text-align: right;\">\n",
       "      <th></th>\n",
       "      <th>CreditScore</th>\n",
       "      <th>Geography</th>\n",
       "      <th>Gender</th>\n",
       "      <th>Age</th>\n",
       "      <th>Tenure</th>\n",
       "      <th>Balance</th>\n",
       "      <th>NumOfProducts</th>\n",
       "      <th>HasCrCard</th>\n",
       "      <th>IsActiveMember</th>\n",
       "      <th>EstimatedSalary</th>\n",
       "    </tr>\n",
       "  </thead>\n",
       "  <tbody>\n",
       "    <tr>\n",
       "      <th>0</th>\n",
       "      <td>619</td>\n",
       "      <td>France</td>\n",
       "      <td>Female</td>\n",
       "      <td>42</td>\n",
       "      <td>2</td>\n",
       "      <td>0.00</td>\n",
       "      <td>1</td>\n",
       "      <td>1</td>\n",
       "      <td>1</td>\n",
       "      <td>101348.88</td>\n",
       "    </tr>\n",
       "    <tr>\n",
       "      <th>1</th>\n",
       "      <td>608</td>\n",
       "      <td>Spain</td>\n",
       "      <td>Female</td>\n",
       "      <td>41</td>\n",
       "      <td>1</td>\n",
       "      <td>83807.86</td>\n",
       "      <td>1</td>\n",
       "      <td>0</td>\n",
       "      <td>1</td>\n",
       "      <td>112542.58</td>\n",
       "    </tr>\n",
       "  </tbody>\n",
       "</table>\n",
       "</div>"
      ],
      "text/plain": [
       "   CreditScore Geography  Gender  Age  Tenure   Balance  NumOfProducts  \\\n",
       "0          619    France  Female   42       2      0.00              1   \n",
       "1          608     Spain  Female   41       1  83807.86              1   \n",
       "\n",
       "   HasCrCard  IsActiveMember  EstimatedSalary  \n",
       "0          1               1        101348.88  \n",
       "1          0               1        112542.58  "
      ]
     },
     "execution_count": 7,
     "metadata": {},
     "output_type": "execute_result"
    }
   ],
   "source": [
    "# Seeing output of X\n",
    "\n",
    "X.head(2)"
   ]
  },
  {
   "cell_type": "code",
   "execution_count": 8,
   "metadata": {},
   "outputs": [],
   "source": [
    "# From the above output, we can see that 'Geogarphy' & 'Gender' are categorical \n",
    "#we need to convert categorical variables into numerical vars so that we can process them in the model"
   ]
  },
  {
   "cell_type": "code",
   "execution_count": 9,
   "metadata": {},
   "outputs": [],
   "source": [
    "# Converting 'Gender' into numeric\n",
    "\n",
    "from sklearn.preprocessing import LabelEncoder\n",
    "labelencoder = LabelEncoder()\n",
    "X['Gender'] = labelencoder.fit_transform(X.Gender)\n",
    "\n",
    "X['Gender'] = X['Gender'].astype('int64')"
   ]
  },
  {
   "cell_type": "code",
   "execution_count": 10,
   "metadata": {},
   "outputs": [],
   "source": [
    "# Converting 'Geography' into numeric\n",
    "from sklearn.preprocessing import LabelEncoder\n",
    "labelencoder = LabelEncoder()\n",
    "X['Geography'] = labelencoder.fit_transform(X.Geography)"
   ]
  },
  {
   "cell_type": "code",
   "execution_count": 11,
   "metadata": {},
   "outputs": [
    {
     "name": "stderr",
     "output_type": "stream",
     "text": [
      "C:\\Users\\Tanu\\Anaconda3\\lib\\site-packages\\sklearn\\preprocessing\\_encoders.py:363: FutureWarning: The handling of integer data will change in version 0.22. Currently, the categories are determined based on the range [0, max(values)], while in the future they will be determined based on the unique values.\n",
      "If you want the future behaviour and silence this warning, you can specify \"categories='auto'\".\n",
      "In case you used a LabelEncoder before this OneHotEncoder to convert the categories to integers, then you can now use the OneHotEncoder directly.\n",
      "  warnings.warn(msg, FutureWarning)\n",
      "C:\\Users\\Tanu\\Anaconda3\\lib\\site-packages\\sklearn\\preprocessing\\_encoders.py:385: DeprecationWarning: The 'categorical_features' keyword is deprecated in version 0.20 and will be removed in 0.22. You can use the ColumnTransformer instead.\n",
      "  \"use the ColumnTransformer instead.\", DeprecationWarning)\n"
     ]
    }
   ],
   "source": [
    "# As 'Geography' has three labels, changing these labels by creating dummy variables for each label & storing them in specific columns \n",
    "# using one hot coding \n",
    "\n",
    "# Importing one-hot encoder\n",
    "from sklearn.preprocessing import OneHotEncoder\n",
    "\n",
    "# creating dummy columns \n",
    "countryhotencoder = OneHotEncoder(categorical_features = [1]) \n",
    "X = countryhotencoder.fit_transform(X).toarray()"
   ]
  },
  {
   "cell_type": "code",
   "execution_count": 12,
   "metadata": {},
   "outputs": [
    {
     "data": {
      "text/plain": [
       "(10000, 12)"
      ]
     },
     "execution_count": 12,
     "metadata": {},
     "output_type": "execute_result"
    }
   ],
   "source": [
    "# Shape\n",
    "X.shape"
   ]
  },
  {
   "cell_type": "code",
   "execution_count": 13,
   "metadata": {},
   "outputs": [],
   "source": [
    "# Dropping one label of geography so that multicolinerty won't occure\n",
    "X = X[:,1:]"
   ]
  },
  {
   "cell_type": "code",
   "execution_count": 14,
   "metadata": {},
   "outputs": [
    {
     "data": {
      "text/plain": [
       "0    1\n",
       "1    0\n",
       "2    1\n",
       "3    0\n",
       "4    0\n",
       "Name: Exited, dtype: int64"
      ]
     },
     "execution_count": 14,
     "metadata": {},
     "output_type": "execute_result"
    }
   ],
   "source": [
    "# Seeing output of y\n",
    "y.head(5)"
   ]
  },
  {
   "cell_type": "markdown",
   "metadata": {},
   "source": [
    "# 4. Divide the data set into Train and test sets"
   ]
  },
  {
   "cell_type": "code",
   "execution_count": 15,
   "metadata": {},
   "outputs": [],
   "source": [
    "#Test train split into 80:20\n",
    "X_train, X_test, y_train, y_test = train_test_split(X, y, test_size=0.20, random_state=201)\n"
   ]
  },
  {
   "cell_type": "markdown",
   "metadata": {},
   "source": [
    "# 5. Normalize the train and test data "
   ]
  },
  {
   "cell_type": "code",
   "execution_count": 16,
   "metadata": {},
   "outputs": [],
   "source": [
    "# Scaling \n",
    "#Importing Standardscaler \n",
    "from sklearn.preprocessing import StandardScaler\n",
    "\n",
    "# Standardizing \n",
    "sc=StandardScaler()\n",
    "X_train = sc.fit_transform(X_train)\n",
    "X_test = sc.transform(X_test)"
   ]
  },
  {
   "cell_type": "markdown",
   "metadata": {},
   "source": [
    "# 6. Initialize & build the model "
   ]
  },
  {
   "cell_type": "code",
   "execution_count": 17,
   "metadata": {},
   "outputs": [],
   "source": [
    "# Importing Keras & corresponding packages\n",
    "import keras\n",
    "from keras.models import Sequential \n",
    "from keras.layers import Dense"
   ]
  },
  {
   "cell_type": "code",
   "execution_count": 18,
   "metadata": {},
   "outputs": [],
   "source": [
    "# Initializing Neural net & setting up the parameters for its layer\n",
    "\n",
    "#Initializing Neural Network\n",
    "classifier = Sequential()\n",
    "\n",
    "# Creating the first hidden layer\n",
    "classifier.add(Dense(activation = 'relu', input_dim = 11, units=6, kernel_initializer='uniform'))\n",
    "\n",
    "# Creating the second hidden layer\n",
    "classifier.add(Dense(activation = 'relu', units=6, kernel_initializer='uniform')) \n",
    "\n",
    "#Creating output layer\n",
    "classifier.add(Dense(activation = 'sigmoid', units=1, kernel_initializer='uniform')) "
   ]
  },
  {
   "cell_type": "markdown",
   "metadata": {},
   "source": [
    "# 7.Optimize the model "
   ]
  },
  {
   "cell_type": "code",
   "execution_count": 19,
   "metadata": {},
   "outputs": [],
   "source": [
    "#Compiling the ANN using 'adam' optimizer\n",
    "classifier.compile(optimizer='adam', loss = 'binary_crossentropy', metrics=['accuracy'])"
   ]
  },
  {
   "cell_type": "code",
   "execution_count": 20,
   "metadata": {},
   "outputs": [
    {
     "name": "stdout",
     "output_type": "stream",
     "text": [
      "8000\n",
      "8000\n"
     ]
    }
   ],
   "source": [
    "# Checking length of Test -train \n",
    "print(len(X_train))\n",
    "print(len(y_train))"
   ]
  },
  {
   "cell_type": "code",
   "execution_count": 21,
   "metadata": {},
   "outputs": [
    {
     "name": "stdout",
     "output_type": "stream",
     "text": [
      "Epoch 1/100\n",
      "8000/8000 [==============================] - 1s 138us/step - loss: 0.4838 - acc: 0.7982\n",
      "Epoch 2/100\n",
      "8000/8000 [==============================] - 1s 103us/step - loss: 0.4206 - acc: 0.8025\n",
      "Epoch 3/100\n",
      "8000/8000 [==============================] - 1s 97us/step - loss: 0.4106 - acc: 0.8340\n",
      "Epoch 4/100\n",
      "8000/8000 [==============================] - 1s 96us/step - loss: 0.4047 - acc: 0.8356\n",
      "Epoch 5/100\n",
      "8000/8000 [==============================] - 1s 113us/step - loss: 0.4002 - acc: 0.8357\n",
      "Epoch 6/100\n",
      "8000/8000 [==============================] - 1s 146us/step - loss: 0.3984 - acc: 0.8362\n",
      "Epoch 7/100\n",
      "8000/8000 [==============================] - 1s 148us/step - loss: 0.3967 - acc: 0.8367\n",
      "Epoch 8/100\n",
      "8000/8000 [==============================] - 1s 121us/step - loss: 0.3949 - acc: 0.8381\n",
      "Epoch 9/100\n",
      "8000/8000 [==============================] - 1s 101us/step - loss: 0.3938 - acc: 0.8387\n",
      "Epoch 10/100\n",
      "8000/8000 [==============================] - 1s 115us/step - loss: 0.3931 - acc: 0.8377\n",
      "Epoch 11/100\n",
      "8000/8000 [==============================] - 2s 199us/step - loss: 0.3925 - acc: 0.8376 2s - loss: 0.3\n",
      "Epoch 12/100\n",
      "8000/8000 [==============================] - 1s 148us/step - loss: 0.3918 - acc: 0.8381 0s - loss: 0.3900 - a\n",
      "Epoch 13/100\n",
      "8000/8000 [==============================] - 1s 121us/step - loss: 0.3923 - acc: 0.8387\n",
      "Epoch 14/100\n",
      "8000/8000 [==============================] - 1s 96us/step - loss: 0.3916 - acc: 0.8386\n",
      "Epoch 15/100\n",
      "8000/8000 [==============================] - 1s 111us/step - loss: 0.3913 - acc: 0.8380\n",
      "Epoch 16/100\n",
      "8000/8000 [==============================] - 1s 96us/step - loss: 0.3909 - acc: 0.8382\n",
      "Epoch 17/100\n",
      "8000/8000 [==============================] - 1s 92us/step - loss: 0.3907 - acc: 0.8389\n",
      "Epoch 18/100\n",
      "8000/8000 [==============================] - 1s 90us/step - loss: 0.3908 - acc: 0.8380\n",
      "Epoch 19/100\n",
      "8000/8000 [==============================] - 1s 92us/step - loss: 0.3902 - acc: 0.8376\n",
      "Epoch 20/100\n",
      "8000/8000 [==============================] - 1s 105us/step - loss: 0.3899 - acc: 0.8396\n",
      "Epoch 21/100\n",
      "8000/8000 [==============================] - 1s 113us/step - loss: 0.3902 - acc: 0.8365\n",
      "Epoch 22/100\n",
      "8000/8000 [==============================] - 1s 111us/step - loss: 0.3895 - acc: 0.8391\n",
      "Epoch 23/100\n",
      "8000/8000 [==============================] - 1s 113us/step - loss: 0.3889 - acc: 0.8385\n",
      "Epoch 24/100\n",
      "8000/8000 [==============================] - 1s 103us/step - loss: 0.3885 - acc: 0.8395\n",
      "Epoch 25/100\n",
      "8000/8000 [==============================] - 1s 92us/step - loss: 0.3885 - acc: 0.8401\n",
      "Epoch 26/100\n",
      "8000/8000 [==============================] - 1s 82us/step - loss: 0.3876 - acc: 0.8415\n",
      "Epoch 27/100\n",
      "8000/8000 [==============================] - 1s 88us/step - loss: 0.3868 - acc: 0.8402\n",
      "Epoch 28/100\n",
      "8000/8000 [==============================] - 1s 86us/step - loss: 0.3868 - acc: 0.8414\n",
      "Epoch 29/100\n",
      "8000/8000 [==============================] - 1s 107us/step - loss: 0.3860 - acc: 0.8419\n",
      "Epoch 30/100\n",
      "8000/8000 [==============================] - 1s 121us/step - loss: 0.3838 - acc: 0.8441\n",
      "Epoch 31/100\n",
      "8000/8000 [==============================] - 1s 119us/step - loss: 0.3822 - acc: 0.8435\n",
      "Epoch 32/100\n",
      "8000/8000 [==============================] - 1s 107us/step - loss: 0.3795 - acc: 0.8429\n",
      "Epoch 33/100\n",
      "8000/8000 [==============================] - 1s 96us/step - loss: 0.3765 - acc: 0.8441\n",
      "Epoch 34/100\n",
      "8000/8000 [==============================] - 1s 86us/step - loss: 0.3727 - acc: 0.8436\n",
      "Epoch 35/100\n",
      "8000/8000 [==============================] - 1s 92us/step - loss: 0.3697 - acc: 0.8441\n",
      "Epoch 36/100\n",
      "8000/8000 [==============================] - 1s 103us/step - loss: 0.3665 - acc: 0.8479\n",
      "Epoch 37/100\n",
      "8000/8000 [==============================] - 1s 109us/step - loss: 0.3635 - acc: 0.8465\n",
      "Epoch 38/100\n",
      "8000/8000 [==============================] - 1s 115us/step - loss: 0.3588 - acc: 0.8519\n",
      "Epoch 39/100\n",
      "8000/8000 [==============================] - 1s 86us/step - loss: 0.3538 - acc: 0.8530\n",
      "Epoch 40/100\n",
      "8000/8000 [==============================] - 1s 90us/step - loss: 0.3510 - acc: 0.8547\n",
      "Epoch 41/100\n",
      "8000/8000 [==============================] - 1s 103us/step - loss: 0.3477 - acc: 0.8551\n",
      "Epoch 42/100\n",
      "8000/8000 [==============================] - 1s 86us/step - loss: 0.3441 - acc: 0.8589\n",
      "Epoch 43/100\n",
      "8000/8000 [==============================] - 1s 84us/step - loss: 0.3431 - acc: 0.8591\n",
      "Epoch 44/100\n",
      "8000/8000 [==============================] - 1s 97us/step - loss: 0.3422 - acc: 0.8591\n",
      "Epoch 45/100\n",
      "8000/8000 [==============================] - 1s 99us/step - loss: 0.3395 - acc: 0.8601\n",
      "Epoch 46/100\n",
      "8000/8000 [==============================] - 1s 96us/step - loss: 0.3405 - acc: 0.8601\n",
      "Epoch 47/100\n",
      "8000/8000 [==============================] - 1s 97us/step - loss: 0.3383 - acc: 0.8614\n",
      "Epoch 48/100\n",
      "8000/8000 [==============================] - 1s 154us/step - loss: 0.3374 - acc: 0.8611\n",
      "Epoch 49/100\n",
      "8000/8000 [==============================] - 2s 189us/step - loss: 0.3374 - acc: 0.8615\n",
      "Epoch 50/100\n",
      "8000/8000 [==============================] - 2s 238us/step - loss: 0.3367 - acc: 0.8620 0s - loss: 0.3363 - a\n",
      "Epoch 51/100\n",
      "8000/8000 [==============================] - 2s 205us/step - loss: 0.3365 - acc: 0.8624\n",
      "Epoch 52/100\n",
      "8000/8000 [==============================] - 1s 121us/step - loss: 0.3360 - acc: 0.8609\n",
      "Epoch 53/100\n",
      "8000/8000 [==============================] - 1s 103us/step - loss: 0.3354 - acc: 0.8610\n",
      "Epoch 54/100\n",
      "8000/8000 [==============================] - 1s 98us/step - loss: 0.3353 - acc: 0.8612\n",
      "Epoch 55/100\n",
      "8000/8000 [==============================] - 1s 92us/step - loss: 0.3350 - acc: 0.8601\n",
      "Epoch 56/100\n",
      "8000/8000 [==============================] - 1s 97us/step - loss: 0.3350 - acc: 0.8606\n",
      "Epoch 57/100\n",
      "8000/8000 [==============================] - 1s 92us/step - loss: 0.3342 - acc: 0.8604\n",
      "Epoch 58/100\n",
      "8000/8000 [==============================] - 1s 84us/step - loss: 0.3341 - acc: 0.8631\n",
      "Epoch 59/100\n",
      "8000/8000 [==============================] - 1s 86us/step - loss: 0.3340 - acc: 0.8614\n",
      "Epoch 60/100\n",
      "8000/8000 [==============================] - 1s 86us/step - loss: 0.3341 - acc: 0.8624\n",
      "Epoch 61/100\n",
      "8000/8000 [==============================] - 1s 92us/step - loss: 0.3335 - acc: 0.8615\n",
      "Epoch 62/100\n",
      "8000/8000 [==============================] - 1s 92us/step - loss: 0.3340 - acc: 0.8621: 0s - loss: 0.3264 - acc: 0\n",
      "Epoch 63/100\n",
      "8000/8000 [==============================] - 1s 86us/step - loss: 0.3341 - acc: 0.8637\n",
      "Epoch 64/100\n",
      "8000/8000 [==============================] - 1s 90us/step - loss: 0.3342 - acc: 0.8609\n",
      "Epoch 65/100\n",
      "8000/8000 [==============================] - 1s 84us/step - loss: 0.3330 - acc: 0.8639\n",
      "Epoch 66/100\n",
      "8000/8000 [==============================] - 1s 88us/step - loss: 0.3332 - acc: 0.8637\n",
      "Epoch 67/100\n",
      "8000/8000 [==============================] - 1s 101us/step - loss: 0.3326 - acc: 0.8609\n",
      "Epoch 68/100\n",
      "8000/8000 [==============================] - 1s 121us/step - loss: 0.3332 - acc: 0.8642\n",
      "Epoch 69/100\n",
      "8000/8000 [==============================] - 1s 111us/step - loss: 0.3331 - acc: 0.8622\n",
      "Epoch 70/100\n",
      "8000/8000 [==============================] - 1s 109us/step - loss: 0.3327 - acc: 0.8624\n",
      "Epoch 71/100\n",
      "8000/8000 [==============================] - 1s 90us/step - loss: 0.3325 - acc: 0.8640\n",
      "Epoch 72/100\n",
      "8000/8000 [==============================] - 1s 90us/step - loss: 0.3326 - acc: 0.8621\n",
      "Epoch 73/100\n",
      "8000/8000 [==============================] - 1s 84us/step - loss: 0.3322 - acc: 0.8640\n",
      "Epoch 74/100\n",
      "8000/8000 [==============================] - 1s 92us/step - loss: 0.3326 - acc: 0.8650\n",
      "Epoch 75/100\n",
      "8000/8000 [==============================] - 1s 84us/step - loss: 0.3319 - acc: 0.8629\n",
      "Epoch 76/100\n",
      "8000/8000 [==============================] - 1s 86us/step - loss: 0.3306 - acc: 0.8631\n",
      "Epoch 77/100\n",
      "8000/8000 [==============================] - 1s 97us/step - loss: 0.3330 - acc: 0.8640\n",
      "Epoch 78/100\n",
      "8000/8000 [==============================] - 1s 109us/step - loss: 0.3326 - acc: 0.8642\n",
      "Epoch 79/100\n",
      "8000/8000 [==============================] - 1s 98us/step - loss: 0.3323 - acc: 0.8637\n",
      "Epoch 80/100\n",
      "8000/8000 [==============================] - 1s 115us/step - loss: 0.3327 - acc: 0.8632\n",
      "Epoch 81/100\n"
     ]
    },
    {
     "name": "stdout",
     "output_type": "stream",
     "text": [
      "8000/8000 [==============================] - 1s 101us/step - loss: 0.3317 - acc: 0.8634\n",
      "Epoch 82/100\n",
      "8000/8000 [==============================] - 1s 86us/step - loss: 0.3331 - acc: 0.8617\n",
      "Epoch 83/100\n",
      "8000/8000 [==============================] - 1s 88us/step - loss: 0.3312 - acc: 0.8644\n",
      "Epoch 84/100\n",
      "8000/8000 [==============================] - 1s 82us/step - loss: 0.3329 - acc: 0.8646\n",
      "Epoch 85/100\n",
      "8000/8000 [==============================] - 1s 84us/step - loss: 0.3322 - acc: 0.8661\n",
      "Epoch 86/100\n",
      "8000/8000 [==============================] - 1s 82us/step - loss: 0.3316 - acc: 0.8637\n",
      "Epoch 87/100\n",
      "8000/8000 [==============================] - 1s 113us/step - loss: 0.3319 - acc: 0.8654\n",
      "Epoch 88/100\n",
      "8000/8000 [==============================] - 1s 101us/step - loss: 0.3320 - acc: 0.8635\n",
      "Epoch 89/100\n",
      "8000/8000 [==============================] - 1s 113us/step - loss: 0.3315 - acc: 0.8656\n",
      "Epoch 90/100\n",
      "8000/8000 [==============================] - 1s 111us/step - loss: 0.3322 - acc: 0.8632\n",
      "Epoch 91/100\n",
      "8000/8000 [==============================] - 1s 105us/step - loss: 0.3306 - acc: 0.8664\n",
      "Epoch 92/100\n",
      "8000/8000 [==============================] - 1s 88us/step - loss: 0.3312 - acc: 0.8660\n",
      "Epoch 93/100\n",
      "8000/8000 [==============================] - 1s 82us/step - loss: 0.3317 - acc: 0.8652\n",
      "Epoch 94/100\n",
      "8000/8000 [==============================] - 1s 86us/step - loss: 0.3313 - acc: 0.8639\n",
      "Epoch 95/100\n",
      "8000/8000 [==============================] - 1s 82us/step - loss: 0.3323 - acc: 0.8630\n",
      "Epoch 96/100\n",
      "8000/8000 [==============================] - 1s 82us/step - loss: 0.3308 - acc: 0.8636\n",
      "Epoch 97/100\n",
      "8000/8000 [==============================] - 1s 78us/step - loss: 0.3315 - acc: 0.8639\n",
      "Epoch 98/100\n",
      "8000/8000 [==============================] - 1s 88us/step - loss: 0.3314 - acc: 0.8615\n",
      "Epoch 99/100\n",
      "8000/8000 [==============================] - 1s 80us/step - loss: 0.3315 - acc: 0.8642\n",
      "Epoch 100/100\n",
      "8000/8000 [==============================] - 1s 86us/step - loss: 0.3312 - acc: 0.8645\n"
     ]
    },
    {
     "data": {
      "text/plain": [
       "<keras.callbacks.History at 0xef7dac8>"
      ]
     },
     "execution_count": 21,
     "metadata": {},
     "output_type": "execute_result"
    }
   ],
   "source": [
    "#Fitting the classifier \n",
    "classifier.fit(X_train, y_train, batch_size=10, epochs=100)"
   ]
  },
  {
   "cell_type": "markdown",
   "metadata": {},
   "source": [
    "# 8.Predict the results using 0.5 as a threshold "
   ]
  },
  {
   "cell_type": "code",
   "execution_count": 26,
   "metadata": {},
   "outputs": [
    {
     "name": "stdout",
     "output_type": "stream",
     "text": [
      "[[0.07451803]\n",
      " [0.22839832]\n",
      " [0.3333406 ]\n",
      " ...\n",
      " [0.06693814]\n",
      " [0.07258716]\n",
      " [0.01427286]]\n",
      "[[False]\n",
      " [False]\n",
      " [False]\n",
      " ...\n",
      " [False]\n",
      " [False]\n",
      " [False]]\n"
     ]
    }
   ],
   "source": [
    "#Predicting the test results without any thresh hold\n",
    "y_pred = classifier.predict(X_test)\n",
    "print(y_pred)\n",
    "\n",
    "#Predicting the test results with 5% threshhold\n",
    "y_pred = (y_pred > 0.5)\n",
    "print(y_pred1)"
   ]
  },
  {
   "cell_type": "markdown",
   "metadata": {},
   "source": [
    "# 9.Print confusion matrix  and Accuracy score"
   ]
  },
  {
   "cell_type": "code",
   "execution_count": 30,
   "metadata": {},
   "outputs": [
    {
     "name": "stdout",
     "output_type": "stream",
     "text": [
      "[[1515   62]\n",
      " [ 244  179]]\n"
     ]
    }
   ],
   "source": [
    "# Calculating confusion matrix\n",
    "\n",
    "from sklearn.metrics import confusion_matrix\n",
    "cm = confusion_matrix(y_test, y_pred)\n",
    "print(cm)"
   ]
  },
  {
   "cell_type": "code",
   "execution_count": 31,
   "metadata": {},
   "outputs": [
    {
     "name": "stdout",
     "output_type": "stream",
     "text": [
      "Accuracy Score\n",
      "84.7\n"
     ]
    }
   ],
   "source": [
    "# Accuracy Score\n",
    "print ('Accuracy Score')\n",
    "print (((cm[0][0]+cm[1][1])*100)/(cm[0][0]+cm[1][1]+cm[0][1]+cm[1][0]))"
   ]
  },
  {
   "cell_type": "code",
   "execution_count": null,
   "metadata": {},
   "outputs": [],
   "source": [
    "# From the above accuracy score, model is able to classify 84.7% observation correctly"
   ]
  }
 ],
 "metadata": {
  "kernelspec": {
   "display_name": "Python 3",
   "language": "python",
   "name": "python3"
  },
  "language_info": {
   "codemirror_mode": {
    "name": "ipython",
    "version": 3
   },
   "file_extension": ".py",
   "mimetype": "text/x-python",
   "name": "python",
   "nbconvert_exporter": "python",
   "pygments_lexer": "ipython3",
   "version": "3.6.6"
  }
 },
 "nbformat": 4,
 "nbformat_minor": 2
}
